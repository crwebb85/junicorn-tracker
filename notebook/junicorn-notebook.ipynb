{
 "cells": [
  {
   "cell_type": "code",
   "execution_count": null,
   "metadata": {},
   "outputs": [],
   "source": [
    "from webdav3.client import Client\n",
    "from dotenv import dotenv_values\n",
    "import instaloader\n",
    "from instaloader import Profile, Post, Instaloader\n",
    "import os\n",
    "import datetime\n",
    "import time\n",
    "import shutil\n",
    "import asyncio\n",
    "\n"
   ]
  },
  {
   "cell_type": "markdown",
   "metadata": {},
   "source": [
    "Load configuration variables from a `.env` file.\n",
    "\n",
    "Expected Variables:\n",
    "- WEBDAV_DOMAIN_NAME\n",
    "- WEBDAV_USERNAME\n",
    "- WEBDAV_PASSWORD\n",
    "- INSTAGRAM_USERNAME\n",
    "- INSTAGRAM_PASSWORD"
   ]
  },
  {
   "cell_type": "code",
   "execution_count": null,
   "metadata": {},
   "outputs": [],
   "source": [
    "config = dotenv_values(\".env\") "
   ]
  },
  {
   "cell_type": "markdown",
   "metadata": {},
   "source": [
    "# Test WebDav API\n",
    "\n",
    "Test WebDav API can connect to my NextCloud instance"
   ]
  },
  {
   "cell_type": "markdown",
   "metadata": {},
   "source": [
    "Configure WebDav Client to connect to my Nextcloud server."
   ]
  },
  {
   "cell_type": "code",
   "execution_count": null,
   "metadata": {},
   "outputs": [],
   "source": [
    "\n",
    "\n",
    "webdav_options = {\n",
    " 'webdav_hostname': f'https://{config[\"WEBDAV_DOMAIN_NAME\"]}/remote.php/dav/files/{config[\"WEBDAV_USERNAME\"]}/', \n",
    " 'webdav_login':    config[\"WEBDAV_USERNAME\"],\n",
    " 'webdav_password': config[\"WEBDAV_PASSWORD\"]\n",
    "}\n",
    "\n",
    "client = Client(webdav_options)\n",
    "\n"
   ]
  },
  {
   "cell_type": "markdown",
   "metadata": {},
   "source": [
    "Test that a folder can be created via WebDav."
   ]
  },
  {
   "cell_type": "code",
   "execution_count": null,
   "metadata": {},
   "outputs": [],
   "source": [
    "client.mkdir(\"fox-drive\")\n",
    "print(client.check(\"fox-drive\"))"
   ]
  },
  {
   "cell_type": "markdown",
   "metadata": {},
   "source": [
    "# Get Instagram Stories"
   ]
  },
  {
   "cell_type": "code",
   "execution_count": null,
   "metadata": {},
   "outputs": [],
   "source": [
    "L = instaloader.Instaloader()\n",
    "L.login(config[\"INSTAGRAM_USERNAME\"], config[\"INSTAGRAM_PASSWORD\"])"
   ]
  },
  {
   "cell_type": "code",
   "execution_count": null,
   "metadata": {},
   "outputs": [],
   "source": [
    "for story in L.get_stories():\n",
    "    # story is a Story object\n",
    "    for item in story.get_items():\n",
    "        print(item)\n",
    "        # item is a StoryItem object\n",
    "        # L.download_storyitem(item, ':stories')"
   ]
  },
  {
   "cell_type": "markdown",
   "metadata": {},
   "source": [
    "# Get Instagram posts"
   ]
  },
  {
   "cell_type": "markdown",
   "metadata": {},
   "source": [
    "Test downloading the first post that [juniperfoxx](https://www.instagram.com/juniperfoxx/) has maded to instagram"
   ]
  },
  {
   "cell_type": "code",
   "execution_count": null,
   "metadata": {},
   "outputs": [],
   "source": [
    "profile = Profile.from_username(L.context, 'juniperfoxx')\n",
    "for post in profile.get_posts():\n",
    "    print(post)\n",
    "    L.download_post(post, target=f'downloads')\n",
    "    break"
   ]
  },
  {
   "cell_type": "markdown",
   "metadata": {},
   "source": [
    "## Design Plan:\n",
    "\n",
    "1. Lookup the datetime of the most recent post saved to nextcloud. \n",
    "2. Get the list of posts from after the datetime\n",
    "3. for-each post downloaded and save to nextcloud"
   ]
  },
  {
   "cell_type": "code",
   "execution_count": null,
   "metadata": {},
   "outputs": [],
   "source": [
    "test_sync_download_path = \"test-sync-downloads\"\n",
    "\n",
    "\n",
    "start = time.perf_counter()\n",
    "\n",
    "profile = Profile.from_username(L.context, 'juniperfoxx')\n",
    "MAX_POSTS = 1\n",
    "for count, post in enumerate(profile.get_posts()):\n",
    "    if MAX_POSTS <= count:\n",
    "        break\n",
    "    start_time_download = time.perf_counter()\n",
    "    L.download_post(post, target=test_sync_download_path)\n",
    "    print(time.perf_counter() - start_time_download)\n",
    "client.upload_sync(remote_path=test_sync_download_path, local_path=test_sync_download_path)\n",
    "\n",
    "#remove temporary local files\n",
    "shutil.rmtree(test_sync_download_path)\n",
    "\n",
    "sync_elapse_time = time.perf_counter() - start\n",
    "\n",
    "print(sync_elapse_time)\n",
    "\n",
    "#cleanup for next run\n",
    "client.clean(test_sync_download_path)\n"
   ]
  },
  {
   "cell_type": "code",
   "execution_count": null,
   "metadata": {},
   "outputs": [],
   "source": [
    "async def download(post: Post, remote_path):\n",
    "    temp_download_path = f'post-{post.shortcode}'\n",
    "    L.download_post(post, target=temp_download_path)\n",
    "    client.upload_sync(remote_path=remote_path, local_path=temp_download_path)\n",
    "    shutil.rmtree(temp_download_path)\n",
    "\n",
    "async def dowload_all_posts(test_async_download_path):\n",
    "    profile = Profile.from_username(L.context, 'juniperfoxx')\n",
    "    MAX_POSTS = 20\n",
    "    posts = [post for post, count in zip(profile.get_posts(), range(MAX_POSTS))]\n",
    "\n",
    "    return await asyncio.gather(*(download(post, test_async_download_path) for post in posts))\n",
    "\n",
    "test_async_download_path = \"test-async-downloads\"\n",
    "start = time.perf_counter()\n",
    "\n",
    "await dowload_all_posts(test_async_download_path)\n",
    "\n",
    "async_elapse_time = time.perf_counter() - start\n",
    "\n",
    "print(async_elapse_time)\n",
    "\n",
    "#cleanup for next run\n",
    "client.clean(test_async_download_path)"
   ]
  },
  {
   "cell_type": "code",
   "execution_count": null,
   "metadata": {},
   "outputs": [],
   "source": [
    "def sync_store_post(post:Post, webdav_client:Client, instaloader:Instaloader, remote_path:str):\n",
    "    \"\"\"Synchronously store the downloaded Instagram `Post` on WebDav API compatible fileserver.\n",
    "\n",
    "    Note: Files will be temporarily stored to the local filesystem in a folder called `<current directory>/post-<the posts shortcode>`. \n",
    "    \n",
    "    Downloaded Files\n",
    "    ----------------\n",
    "    <datetime>_UTC.jpg\n",
    "        The first image in the post. The datetime format is `YYYY-MM-DD-HH-MM-SS`\n",
    "    <datetime>_UTC.mp4\n",
    "        An optional video file that goes with the image that has the same filename. \n",
    "        If this is downloaded, then the corresponding image would be this video's thumbnail/preview.\n",
    "    <datetime>_UTC_<count>.jpg\n",
    "        Any additional images in the post will have `count` suffix starting with the value `1`\n",
    "    <datetime>_UTC_<count>.mp4\n",
    "        An optional video file that goes with the image that has the same filename. \n",
    "        If this is downloaded, then the corresponding image would be this video's thumbnail/preview.\n",
    "    <datetime>_UTC.txt\n",
    "        Contains post's caption\n",
    "    <datetime>_UTC.json.xz\n",
    "        A compressed json file that contains information about the post\n",
    "        \n",
    "    Parameters\n",
    "    ----------\n",
    "    post: Post\n",
    "        The post to download from instagram and store to the fileserver.\n",
    "    webdav_client\n",
    "        The WebDav API client used to store the files to the fileserver.\n",
    "    instaloader: Instaloader\n",
    "        The logged in Instagram API used to locally download the post.\n",
    "    remote_path: str\n",
    "        The remote path to store files into on the fileserver\n",
    "    \n",
    "    Raises\n",
    "    ------\n",
    "    NotImplementedError\n",
    "        If any of the parameters `post`, `webdav_client`, `instaloader`, or `remote_path` are None\n",
    "    \"\"\"\n",
    "    if post is None:\n",
    "        raise NotImplementedError('`post` is a required parameter.')\n",
    "    if webdav_client is None:\n",
    "        raise NotImplementedError('`webdav_client` is a required parameter.')\n",
    "    if instaloader is None:\n",
    "        raise NotImplementedError('`instaloader` is a required parameter.')\n",
    "    if remote_path is None:\n",
    "        raise NotImplementedError('`remote_path` is a required parameter.')\n",
    "    \n",
    "    temp_download_path = f'post-{post.shortcode}'\n",
    "    instaloader.download_post(post, target=temp_download_path)\n",
    "    webdav_client.mkdir(remote_path)\n",
    "    for file in os.listdir(temp_download_path):\n",
    "        local_file = os.path.join(os.getcwd(),temp_download_path,file)\n",
    "        remote_file = os.path.join(remote_path,file).replace(\"\\\\\",\"/\").lstrip('/')\n",
    "        webdav_client.upload_file(remote_path=remote_file, local_path=local_file)\n",
    "        \n",
    "    shutil.rmtree(temp_download_path)\n",
    "\n",
    "async def upload_file(webdav_client:Client, local_file_dir:str, local_file_name:str, remote_dir:str ):\n",
    "    local_file = os.path.join(os.getcwd(),local_file_dir,local_file_name)\n",
    "    remote_file = os.path.join(remote_dir,local_file_name).replace('\\\\','/').lstrip('/')\n",
    "    webdav_client.upload_file(remote_path=remote_file, local_path=local_file)\n",
    "\n",
    "async def async_store_post(post: Post, webdav_client:Client, instaloader: Instaloader, remote_path:str):\n",
    "    \"\"\"Asynchronously store the downloaded Instagram `Post` on WebDav API compatible fileserver.\n",
    "\n",
    "    Note: Files will be temporarily stored to the local filesystem in a folder called `<current directory>/post-<the posts shortcode>`. \n",
    "    \n",
    "    Downloaded Files:\n",
    "    -----------------\n",
    "    <datetime>_UTC.jpg\n",
    "        The first image in the post. The datetime format is `YYYY-MM-DD-HH-MM-SS`\n",
    "    <datetime>_UTC.mp4\n",
    "        An optional video file that goes with the image that has the same filename. \n",
    "        If this is downloaded, then the corresponding image would be this video's thumbnail/preview.\n",
    "    <datetime>_UTC_<count>.jpg\n",
    "        Any additional images in the post will have `count` suffix starting with the value `1`\n",
    "    <datetime>_UTC_<count>.mp4\n",
    "        An optional video file that goes with the image that has the same filename. \n",
    "        If this is downloaded, then the corresponding image would be this video's thumbnail/preview.\n",
    "    <datetime>_UTC.txt\n",
    "        Contains post's caption\n",
    "    <datetime>_UTC.json.xz\n",
    "        A compressed json file that contains information about the post\n",
    "        \n",
    "    Parameters:\n",
    "    -----------\n",
    "    post: Post\n",
    "        The post to download from instagram and store to the fileserver.\n",
    "    webdav_client\n",
    "        The WebDav API client used to store the files to the fileserver.\n",
    "    instaloader: Instaloader\n",
    "        The logged in Instagram API used to locally download the post.\n",
    "    remote_path: str\n",
    "        The remote path to store files into on the fileserver\n",
    "    \n",
    "    Raises\n",
    "    ------\n",
    "    NotImplementedError\n",
    "        If any of the parameters `post`, `webdav_client`, `instaloader`, or `remote_path` are None\n",
    "    \"\"\"\n",
    "    if post is None:\n",
    "        raise NotImplementedError('`post` is a required parameter.')\n",
    "    if webdav_client is None:\n",
    "        raise NotImplementedError('`webdav_client` is a required parameter.')\n",
    "    if instaloader is None:\n",
    "        raise NotImplementedError('`instaloader` is a required parameter.')\n",
    "    if remote_path is None:\n",
    "        raise NotImplementedError('`remote_path` is a required parameter.')\n",
    "    \n",
    "    temp_download_path = f'post-{post.shortcode}'\n",
    "    instaloader.download_post(post, target=temp_download_path)\n",
    "    webdav_client.mkdir(remote_path)\n",
    "    \n",
    "    await asyncio.gather( *(upload_file(client, temp_download_path, file, remote_path) for file in os.listdir(temp_download_path)) )\n",
    "\n",
    "    shutil.rmtree(temp_download_path)\n",
    "\n",
    "\n",
    "# TODO evaluate if I should refactor this to not sort in ascending order.\n",
    "# The benifit of ascending order is that it becomes easier to recover from failer states\n",
    "# since you can easily determine which post to download next by checking the date \n",
    "# of the most recent post saved. The downside is that every new post since that point \n",
    "# will need to be stored in memory since I have to convert the lazy interator to a list in order to sort it.\n",
    "# This took 2 minutes to execute\n",
    "def fetch_posts(profile_username:str, after_date:datetime = None, max_posts:int = -1):\n",
    "    \"\"\"Fetch the list of Instagram posts for an instagramer's username.\n",
    "\n",
    "    Posts are ordered by date posted (`Post.date_utc`) in ascending order\n",
    "\n",
    "    Parameters\n",
    "    ----------\n",
    "    profile_username: str\n",
    "        The username of the instagram poster\n",
    "    after_date: datetime, optional\n",
    "        The datetime to filter the posts by those posted afterwards (default is None).\n",
    "        If None posts will not be filtered by date. \n",
    "    max_posts: int, optional\n",
    "        The max number of posts to return. If None or less than 0, return all posts .\n",
    "\n",
    "    Raises\n",
    "    ------\n",
    "    NotImplementedError\n",
    "        If `profile_username` is None\n",
    "\n",
    "    Returns\n",
    "    -------\n",
    "    List of Instagram Posts in ascending order by date posted (`Post.date_utc`) for the user. \n",
    "    \n",
    "    \"\"\"\n",
    "    if profile_username is None:\n",
    "        raise NotImplementedError('`profile_username` is a required parameter.')\n",
    "\n",
    "    profile = Profile.from_username(L.context, profile_username)\n",
    "    posts = [post for post in profile.get_posts() if after_date is None or post.date_utc > after_date]\n",
    "    posts.sort(key=lambda post : post.date_utc)\n",
    "    if max_posts >= 0:\n",
    "        return posts[0:max_posts]\n",
    "\n",
    "    return posts\n"
   ]
  },
  {
   "cell_type": "code",
   "execution_count": null,
   "metadata": {},
   "outputs": [],
   "source": [
    "def fast_fetch_posts(profile_username:str, after_date:datetime = None, max_posts:int = -1):\n",
    "    \"\"\"Fetch the list of Instagram posts for an instagramer's username.\n",
    "\n",
    "    Posts are ordered by date posted (`Post.date_utc`) in ascending order\n",
    "\n",
    "    Parameters\n",
    "    ----------\n",
    "    profile_username: str\n",
    "        The username of the instagram poster\n",
    "    after_date: datetime, optional\n",
    "        The datetime to filter the posts by those posted afterwards (default is None).\n",
    "        If None posts will not be filtered by date. \n",
    "    max_posts: int, optional\n",
    "        The max number of posts to return. If None or less than 0, return all posts .\n",
    "\n",
    "    Raises\n",
    "    ------\n",
    "    NotImplementedError\n",
    "        If `profile_username` is None\n",
    "\n",
    "    Returns\n",
    "    -------\n",
    "    List of Instagram Posts in ascending order by date posted (`Post.date_utc`) for the user. \n",
    "    \n",
    "    \"\"\"\n",
    "    if profile_username is None:\n",
    "        raise NotImplementedError('`profile_username` is a required parameter.')\n",
    "\n",
    "    profile = Profile.from_username(L.context, profile_username)\n",
    "\n",
    "    # Assumes that profile.get_posts() always returns the posts in descending order on the date posted\n",
    "    posts = []\n",
    "    for post in profile.get_posts():\n",
    "        if  after_date is not None and post.date_utc <= after_date :\n",
    "            break\n",
    "\n",
    "        posts.insert(0, post)\n",
    "        \n",
    "        if max_posts >= 0 and max_posts < len(posts):\n",
    "            posts.pop()\n",
    "\n",
    "    return posts\n",
    "    "
   ]
  },
  {
   "cell_type": "markdown",
   "metadata": {},
   "source": [
    "## Profile"
   ]
  },
  {
   "cell_type": "code",
   "execution_count": null,
   "metadata": {},
   "outputs": [],
   "source": [
    "max_posts = 30"
   ]
  },
  {
   "cell_type": "code",
   "execution_count": null,
   "metadata": {},
   "outputs": [],
   "source": [
    "start = time.perf_counter()\n",
    "posts = fetch_posts('juniperfoxx',after_date=datetime.datetime(2022, 1, 26, 0, 0), max_posts = max_posts)\n",
    "fetch_posts_elapsed_time_with_date_parameter = time.perf_counter() - start\n",
    "print(posts)"
   ]
  },
  {
   "cell_type": "code",
   "execution_count": null,
   "metadata": {},
   "outputs": [],
   "source": [
    "start = time.perf_counter()\n",
    "posts = fetch_posts('juniperfoxx', max_posts = max_posts)\n",
    "fetch_posts_elapsed_time = time.perf_counter() - start\n",
    "print(posts)"
   ]
  },
  {
   "cell_type": "code",
   "execution_count": null,
   "metadata": {},
   "outputs": [],
   "source": [
    "start = time.perf_counter()\n",
    "posts = fast_fetch_posts('juniperfoxx',after_date=datetime.datetime(2022, 1, 26, 0, 0), max_posts = max_posts)\n",
    "fast_fetch_posts_elapsed_time_with_date_parameter = time.perf_counter() - start\n",
    "print(posts)"
   ]
  },
  {
   "cell_type": "code",
   "execution_count": null,
   "metadata": {},
   "outputs": [],
   "source": [
    "start = time.perf_counter()\n",
    "posts = fast_fetch_posts('juniperfoxx', max_posts = max_posts)\n",
    "fast_fetch_posts_elapsed_time = time.perf_counter() - start\n",
    "print(posts)"
   ]
  },
  {
   "cell_type": "code",
   "execution_count": null,
   "metadata": {},
   "outputs": [],
   "source": [
    "start = time.perf_counter()\n",
    "test_sync_download_path = \"test-sync-downloads\"\n",
    "for post in posts:\n",
    "    sync_store_post(post, client, L, test_sync_download_path)\n",
    "sync_store_post_elapsed_time = time.perf_counter() - start\n",
    "client.clean(test_sync_download_path) #cleanup test"
   ]
  },
  {
   "cell_type": "code",
   "execution_count": null,
   "metadata": {},
   "outputs": [],
   "source": [
    "start = time.perf_counter()\n",
    "test_async_download_path = \"test-async-downloads\"\n",
    "await asyncio.gather(*(async_store_post(post, client, L, test_async_download_path) for post in posts))\n",
    "async_store_post_elapsed_time = time.perf_counter() - start\n",
    "client.clean(test_async_download_path) #cleanup test"
   ]
  },
  {
   "cell_type": "code",
   "execution_count": null,
   "metadata": {},
   "outputs": [],
   "source": [
    "print(f'fetch_posts elapsed time: {fetch_posts_elapsed_time}')\n",
    "print(f'fetch_posts with date parameter elapsed time: {fetch_posts_elapsed_time_with_date_parameter}')\n",
    "\n",
    "print(f'fast_fetch_posts elapsed time: {fast_fetch_posts_elapsed_time}')\n",
    "print(f'fast_fetch_posts with date parameter elapsed time: {fast_fetch_posts_elapsed_time_with_date_parameter}')\n",
    "\n",
    "print(f'sync_store_post elapsed time: {sync_store_post_elapsed_time}')\n",
    "print(f'async_store_post elapsed time: {async_store_post_elapsed_time}')"
   ]
  },
  {
   "cell_type": "markdown",
   "metadata": {},
   "source": [
    "## Summary of Profiling\n",
    "\n",
    "For a small number of posts the bottle neck is the fetching of posts. Fetching the posts returns a lazy iterator so it only looks up the next batch of posts as it is need. Furthermore the list of posts are in descending order on the dated posted so to get the oldest post you have to iterate over the whole collection. The async version of the store post method does appear to be faster.\n",
    "\n",
    "\n",
    "For max_posts = 50\n",
    "|Function | Elapsed Time |\n",
    "|---------|--------------|\n",
    "|fetch_posts | 113.28898620000109 |\n",
    "|fetch_posts with date parameter | 131.27258950000396 |\n",
    "|fast_fetch_posts | 117.25117950000276 |\n",
    "|fast_fetch_posts with date parameter | 3.3295254000113346 |\n",
    "|sync_store_post | 202.49611910000385 |\n",
    "|async_store_post | 131.32413129998895 |\n",
    "\n"
   ]
  }
 ],
 "metadata": {
  "interpreter": {
   "hash": "614ae19cc9e6d741635ff34c4a977317e55215a5f5bf86cd8589903593f24ef2"
  },
  "kernelspec": {
   "display_name": "Python 3.9.6 64-bit ('venv': venv)",
   "language": "python",
   "name": "python3"
  },
  "language_info": {
   "codemirror_mode": {
    "name": "ipython",
    "version": 3
   },
   "file_extension": ".py",
   "mimetype": "text/x-python",
   "name": "python",
   "nbconvert_exporter": "python",
   "pygments_lexer": "ipython3",
   "version": "3.9.6"
  },
  "orig_nbformat": 4
 },
 "nbformat": 4,
 "nbformat_minor": 2
}
